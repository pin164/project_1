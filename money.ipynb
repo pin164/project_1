{
 "cells": [
  {
   "cell_type": "code",
   "execution_count": 1,
   "id": "b5e3ab61-c102-40cc-a2d8-5eac5773fae0",
   "metadata": {},
   "outputs": [],
   "source": [
    "## dependencies"
   ]
  },
  {
   "cell_type": "code",
   "execution_count": 4,
   "id": "104e173a-2bb0-423d-b7ec-700a054b0331",
   "metadata": {},
   "outputs": [],
   "source": [
    "#pip install country_converter --upgrade\n",
    "\n",
    "import hvplot.pandas\n",
    "import pandas as pd\n",
    "import requests"
   ]
  },
  {
   "cell_type": "code",
   "execution_count": 6,
   "id": "60264084-e922-447f-9adb-33041888b7b1",
   "metadata": {},
   "outputs": [],
   "source": [
    "#Load the CSV file created in Part 1 into a Pandas DataFrame\n",
    "hotel_df = pd.read_csv(\"hotel_bookings.csv\")\n",
    "country_df = pd.read_csv(\"countries_codes_and_coordinates.csv\")"
   ]
  },
  {
   "cell_type": "code",
   "execution_count": 7,
   "id": "d71e4434-eb3c-48fe-a7ca-1eb9ca395b90",
   "metadata": {},
   "outputs": [
    {
     "name": "stdout",
     "output_type": "stream",
     "text": [
      "<class 'pandas.core.frame.DataFrame'>\n",
      "RangeIndex: 262 entries, 0 to 261\n",
      "Data columns (total 6 columns):\n",
      " #   Column               Non-Null Count  Dtype \n",
      "---  ------               --------------  ----- \n",
      " 0   Country              262 non-null    object\n",
      " 1   Alpha-2 code         262 non-null    object\n",
      " 2   Alpha-3 code         262 non-null    object\n",
      " 3   Numeric code         262 non-null    object\n",
      " 4   Latitude (average)   262 non-null    object\n",
      " 5   Longitude (average)  262 non-null    object\n",
      "dtypes: object(6)\n",
      "memory usage: 12.4+ KB\n"
     ]
    }
   ],
   "source": [
    "country_df.info()\n"
   ]
  },
  {
   "cell_type": "code",
   "execution_count": null,
   "id": "6927a30d-cad2-4d02-a89c-eeedab6fe387",
   "metadata": {},
   "outputs": [],
   "source": [
    "hotels_df.desc?"
   ]
  },
  {
   "cell_type": "code",
   "execution_count": null,
   "id": "2c46521f-f54f-409a-aac6-c708c4abe0b9",
   "metadata": {},
   "outputs": [],
   "source": []
  }
 ],
 "metadata": {
  "kernelspec": {
   "display_name": "Python 3 (ipykernel)",
   "language": "python",
   "name": "python3"
  },
  "language_info": {
   "codemirror_mode": {
    "name": "ipython",
    "version": 3
   },
   "file_extension": ".py",
   "mimetype": "text/x-python",
   "name": "python",
   "nbconvert_exporter": "python",
   "pygments_lexer": "ipython3",
   "version": "3.10.14"
  }
 },
 "nbformat": 4,
 "nbformat_minor": 5
}
